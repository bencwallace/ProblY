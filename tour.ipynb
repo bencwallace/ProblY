{
 "cells": [
  {
   "cell_type": "markdown",
   "metadata": {},
   "source": [
    "# Tour of ProblY"
   ]
  },
  {
   "cell_type": "markdown",
   "metadata": {},
   "source": [
    "This Python module was written to overcome some limitations of `scipy.stats`. Most importantly, this is done by obeying the following principle:\n",
    "> Random variables should be treated as **numeric types**.\n",
    "\n",
    "This means treating them as objects that can be composed with functions of a number, array, or matrix and, in particular, allowing arithmetical operations to be performed upon them.\n",
    "\n",
    "On the other hand, the implementation of random variables in `scipy.stats` is geared towards statistical (rather than probabilistic) applications, and therefore emphasizes their distribution and other properties, which may be unknown in many cases of potential interest. Moreover, many random variable classes in `scipy.stats` are actually *families* of random variables. Again, this is done due to the focus on statistical applications, where the exact distribution is being seeked within a family of distributions. However, when such applications are not the main focus, this can be cumbersome and somewhat unnatural.\n",
    "\n",
    "The main object in ProblY is the `probly.sampler` class, which implements a very general kind of random variable: a numerical object that outputs values according to some procedure in response to a seed quantity: such an implementation brings together the following two actually quite similar perspectives on what a random variable does: the programmer's perspective, where a random variable transforms a seed into some other object according to some algorithm; and the mathematician's perspective, in which a random variable is viewed as an abstract (measurable) map into a space of numbers, vectors, etc."
   ]
  },
  {
   "cell_type": "markdown",
   "metadata": {},
   "source": [
    "## Examples"
   ]
  },
  {
   "cell_type": "code",
   "execution_count": 1,
   "metadata": {
    "collapsed": true
   },
   "outputs": [],
   "source": [
    "from probly import sampler"
   ]
  },
  {
   "cell_type": "markdown",
   "metadata": {},
   "source": [
    "### 1. Compatibility with `scipy.stats`\n",
    "Random variables from `scipy.stats` can be wrapped in a `sampler` object as follows."
   ]
  },
  {
   "cell_type": "code",
   "execution_count": 2,
   "metadata": {
    "collapsed": false
   },
   "outputs": [],
   "source": [
    "import scipy.stats as stats\n",
    "n = stats.norm()\n",
    "N = sampler(n)"
   ]
  },
  {
   "cell_type": "markdown",
   "metadata": {},
   "source": [
    "Samples are drawn by calling the random variable. If an argument is provided, it acts as the random seed."
   ]
  },
  {
   "cell_type": "code",
   "execution_count": 3,
   "metadata": {
    "collapsed": false
   },
   "outputs": [
    {
     "name": "stdout",
     "output_type": "stream",
     "text": [
      "0.251449843688\n",
      "False\n",
      "True\n"
     ]
    }
   ],
   "source": [
    "print(N())\n",
    "print(N() == N())\n",
    "print(N(10) == N(10))"
   ]
  },
  {
   "cell_type": "markdown",
   "metadata": {},
   "source": [
    "### 2. Constant random variables"
   ]
  },
  {
   "cell_type": "markdown",
   "metadata": {},
   "source": [
    "The simplest example is a constant random variable."
   ]
  },
  {
   "cell_type": "code",
   "execution_count": 4,
   "metadata": {
    "collapsed": false
   },
   "outputs": [
    {
     "name": "stdout",
     "output_type": "stream",
     "text": [
      "C1 =  8\n",
      "C2 =  [[1 2]\n",
      " [3 4]]\n",
      "C3 =  [1 2 3 4]\n"
     ]
    }
   ],
   "source": [
    "import numpy as np\n",
    "\n",
    "C1 = sampler(8)\n",
    "print('C1 = ', C1())\n",
    "\n",
    "C2 = sampler([[1, 2], [3, 4]])\n",
    "print('C2 = ', C2())\n",
    "\n",
    "C3 = sampler(np.array([1, 2, 3, 4]))\n",
    "print('C3 = ', C3())"
   ]
  },
  {
   "cell_type": "markdown",
   "metadata": {},
   "source": [
    "### 3. Arithmetic with random variables"
   ]
  },
  {
   "cell_type": "markdown",
   "metadata": {},
   "source": [
    "Basic arithmetical operations can be performed on and between random variables."
   ]
  },
  {
   "cell_type": "code",
   "execution_count": 7,
   "metadata": {
    "collapsed": false
   },
   "outputs": [
    {
     "name": "stdout",
     "output_type": "stream",
     "text": [
      "100.876089094\n"
     ]
    }
   ],
   "source": [
    "X = 100 + sampler(stats.norm())\n",
    "print(X())"
   ]
  },
  {
   "cell_type": "code",
   "execution_count": 12,
   "metadata": {
    "collapsed": false
   },
   "outputs": [
    {
     "name": "stdout",
     "output_type": "stream",
     "text": [
      "143.75592874\n"
     ]
    }
   ],
   "source": [
    "Y = 40 * sampler(stats.norm())\n",
    "print((X + Y)())"
   ]
  },
  {
   "cell_type": "code",
   "execution_count": 20,
   "metadata": {
    "collapsed": false
   },
   "outputs": [
    {
     "name": "stdout",
     "output_type": "stream",
     "text": [
      "2.43552030069\n"
     ]
    }
   ],
   "source": [
    "M = sampler(stats.wishart(scale=np.eye(2)))\n",
    "Z = np.dot(M, M)\n",
    "print(Z()[0, 0])"
   ]
  },
  {
   "cell_type": "markdown",
   "metadata": {},
   "source": [
    "### 4. Functions of random variables"
   ]
  },
  {
   "cell_type": "markdown",
   "metadata": {},
   "source": [
    "Any function between numerical types can be extended to act on random variables (by composition) with `probly.Lift`."
   ]
  },
  {
   "cell_type": "code",
   "execution_count": 30,
   "metadata": {
    "collapsed": false
   },
   "outputs": [
    {
     "name": "stdout",
     "output_type": "stream",
     "text": [
      "4.33912417866\n"
     ]
    }
   ],
   "source": [
    "from probly import Lift\n",
    "Trace = Lift(np.trace)\n",
    "T = Trace(Z)\n",
    "print(T())"
   ]
  },
  {
   "cell_type": "markdown",
   "metadata": {},
   "source": [
    "### 5. Leading eigenvalue of a random Wishart matrix"
   ]
  },
  {
   "cell_type": "markdown",
   "metadata": {},
   "source": [
    "We can use the `scipy.stats.wishart` implementation of random Wishart matrices to sample their leading eigenvalues and construct a histogram."
   ]
  },
  {
   "cell_type": "code",
   "execution_count": 37,
   "metadata": {
    "collapsed": false
   },
   "outputs": [
    {
     "data": {
      "image/png": "[encoded data removed]",
      "text/plain": [
       "<Figure size 432x288 with 1 Axes>"
      ]
     },
     "metadata": {},
     "output_type": "display_data"
    }
   ],
   "source": [
    "%matplotlib inline\n",
    "import matplotlib.pyplot as plt\n",
    "\n",
    "def largest_eig(matrix):\n",
    "    return np.max(np.linalg.eig(matrix)[0])\n",
    "largest_eig = Lift(largest_eig)\n",
    "\n",
    "Lambda = largest_eig(stats.wishart(scale=np.eye(2)))\n",
    "samples = [Lambda() for _ in range(10000)]\n",
    "_ = plt.hist(samples, bins=40)"
   ]
  }
 ],
 "metadata": {
  "anaconda-cloud": {},
  "kernelspec": {
   "display_name": "Python [conda root]",
   "language": "python",
   "name": "conda-root-py"
  },
  "language_info": {
   "codemirror_mode": {
    "name": "ipython",
    "version": 3
   },
   "file_extension": ".py",
   "mimetype": "text/x-python",
   "name": "python",
   "nbconvert_exporter": "python",
   "pygments_lexer": "ipython3",
   "version": "3.5.6"
  }
 },
 "nbformat": 4,
 "nbformat_minor": 1
}
