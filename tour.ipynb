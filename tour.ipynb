{
 "cells": [
  {
   "cell_type": "markdown",
   "metadata": {},
   "source": [
    "# Tour of ProblY"
   ]
  },
  {
   "cell_type": "markdown",
   "metadata": {},
   "source": [
    "This Python module was written to allow the easy and intuitive manipulation of random variables according to the following principle:\n",
    "> Individual random variables should be treated as **numeric types**.\n",
    "\n",
    "This means treating them as objects that can be composed with functions of a number, array, or matrix and, in particular, allowing arithmetical operations to be performed upon them. Moreover, an immediate requirement for any methodology allowing such a treatment of random variables is the implementation of a *dependence structure* that tracks the relationships between different instances of a random variable (more on this below).\n",
    "\n",
    "## 1 Comparison with other approaches\n",
    "\n",
    "Other Python implementations of random variables, such as those in `scipy.stats`, are typically geared towards statistical applications and therefore tend to treat random variables as collections of properties (mean, variance, etc.) and methods (pdf, cdf, etc.). It is therefore difficult to perform operations on them as these properties and methods can be difficult to compute for transformed random variables. ProblY trades the convenience of rapid access to such properties in exchange for flexibility in the kinds of random variables that can be constructed by implementing a very general class whose objects' main function is to produce random numbers from some distribution."
   ]
  },
  {
   "cell_type": "markdown",
   "metadata": {},
   "source": [
    "## 2 The `rvar` class\n",
    "The core of ProblY is the class `rvar` class. There are two main ways to instantiate objects of this class: directly from some sampling mechanism, as new independent random variables; or in terms of other, already existing `rvar` objects. In order to produce random samples, the first kinds of `rvar` objects are necessary. However, the emphasis on ProblY is on building up the second kind of objects and their dependence relations. We provide examples below. We will need to import the following modules."
   ]
  },
  {
   "cell_type": "code",
   "execution_count": 1,
   "metadata": {
    "collapsed": true
   },
   "outputs": [],
   "source": [
    "%matplotlib inline\n",
    "import matplotlib.pyplot as plt\n",
    "\n",
    "import numpy as np\n",
    "import random\n",
    "import scipy.stats as stats\n",
    "\n",
    "from probly import rvar, Lift"
   ]
  },
  {
   "cell_type": "markdown",
   "metadata": {},
   "source": [
    "### 2.1 Building blocks: direct instantiation"
   ]
  },
  {
   "cell_type": "markdown",
   "metadata": {},
   "source": [
    "**Custom sampler**\n",
    "\n",
    "The most direct way to construct a `rvar` object is via a sampling method that takes a parameter `seed` as input and outputs a random numeric type (`int`, `float`, `numpy.ndarray`, etc.). If `seed` is set to `None`, a random seed will be generated internally."
   ]
  },
  {
   "cell_type": "code",
   "execution_count": 2,
   "metadata": {
    "collapsed": false
   },
   "outputs": [
    {
     "data": {
      "text/plain": [
       "3866912954"
      ]
     },
     "execution_count": 2,
     "metadata": {},
     "output_type": "execute_result"
    }
   ],
   "source": [
    "# Example: a not very random sampler\n",
    "def sampler(seed=None):\n",
    "    return seed\n",
    "\n",
    "X = rvar.define(sampler)\n",
    "X()"
   ]
  },
  {
   "cell_type": "markdown",
   "metadata": {},
   "source": [
    "A seed can be passed to an `rvar` object as follows."
   ]
  },
  {
   "cell_type": "code",
   "execution_count": 3,
   "metadata": {
    "collapsed": false
   },
   "outputs": [
    {
     "data": {
      "text/plain": [
       "2769717220"
      ]
     },
     "execution_count": 3,
     "metadata": {},
     "output_type": "execute_result"
    }
   ],
   "source": [
    "x = X(10)\n",
    "x"
   ]
  },
  {
   "cell_type": "markdown",
   "metadata": {},
   "source": [
    "Note that the input seed `10` was not used as the actual seed. Nevertheless, seeding allows the production of reproducible results."
   ]
  },
  {
   "cell_type": "code",
   "execution_count": 4,
   "metadata": {
    "collapsed": false
   },
   "outputs": [
    {
     "data": {
      "text/plain": [
       "0"
      ]
     },
     "execution_count": 4,
     "metadata": {},
     "output_type": "execute_result"
    }
   ],
   "source": [
    "x - X(10)"
   ]
  },
  {
   "cell_type": "markdown",
   "metadata": {},
   "source": [
    "The reason for this has to do with the implementation of independence, discussed further below."
   ]
  },
  {
   "cell_type": "markdown",
   "metadata": {},
   "source": [
    "**Wrappers for other packages**\n",
    "\n",
    "Implementations of probability distributions from the `random`, `numpy`, and `scipy.stats` modules can easily be wrapped in a ProblY `rvar` object."
   ]
  },
  {
   "cell_type": "code",
   "execution_count": 5,
   "metadata": {
    "collapsed": false
   },
   "outputs": [],
   "source": [
    "X1 = rvar.define(random.random, 'random')\n",
    "X2 = rvar.define(np.random.rand, 'numpy')\n",
    "X3 = rvar.define(stats.uniform, 'scipy')\n",
    "X4 = rvar.define(stats.uniform(), 'scipy')"
   ]
  },
  {
   "cell_type": "code",
   "execution_count": 6,
   "metadata": {
    "collapsed": false
   },
   "outputs": [
    {
     "name": "stdout",
     "output_type": "stream",
     "text": [
      "0.8342297157976355\n",
      "0.49304836644034955\n",
      "0.855660002852\n",
      "0.0495369218569\n"
     ]
    }
   ],
   "source": [
    "print(X1(11))\n",
    "print(X2(11))\n",
    "print(X3(11))\n",
    "print(X4(11))"
   ]
  },
  {
   "cell_type": "markdown",
   "metadata": {},
   "source": [
    "**Independent copies**\n",
    "\n",
    "Independent copies of a random variable are easily produced as follows."
   ]
  },
  {
   "cell_type": "code",
   "execution_count": 7,
   "metadata": {
    "collapsed": true
   },
   "outputs": [],
   "source": [
    "Y1 = rvar.copy(X1)"
   ]
  },
  {
   "cell_type": "code",
   "execution_count": 8,
   "metadata": {
    "collapsed": false
   },
   "outputs": [
    {
     "name": "stdout",
     "output_type": "stream",
     "text": [
      "0.282505188263218\n",
      "0.1890138386882525\n"
     ]
    }
   ],
   "source": [
    "print(Y1(0) - X1(0))\n",
    "print(Y1(1) - X1(1))"
   ]
  },
  {
   "cell_type": "markdown",
   "metadata": {},
   "source": [
    "### 2.2 Constructing more complex random variables"
   ]
  },
  {
   "cell_type": "markdown",
   "metadata": {},
   "source": [
    "The goal of ProblY is not so much to define and catalogue a wide variety of different statistical distribution: such distributions are already available in a number of other excellent packages. As in the examples above, one can use such packages to define a number of simple random variables that can then be manipulated and transformed using ProblY.\n",
    "\n",
    "The following kinds of random variable transformations are built into ProblY: arithmetical operations (`+`, `-`, `*`, `/`, `//`, `%`, etc.), array formation, and indexing. However, any operation on numbers or arrays can be applied to random variables."
   ]
  },
  {
   "cell_type": "markdown",
   "metadata": {},
   "source": [
    "**Random variable arithmetic**"
   ]
  },
  {
   "cell_type": "code",
   "execution_count": 9,
   "metadata": {
    "collapsed": true
   },
   "outputs": [],
   "source": [
    "Z1 = X1 + Y1\n",
    "Z2 = X2 * X3\n",
    "Z3 = X4 / (X1 + X2)"
   ]
  },
  {
   "cell_type": "code",
   "execution_count": 10,
   "metadata": {
    "collapsed": false
   },
   "outputs": [
    {
     "name": "stdout",
     "output_type": "stream",
     "text": [
      "0.4589080085736471\n",
      "0.356037941562\n",
      "1.08324510296\n"
     ]
    }
   ],
   "source": [
    "print(Z1(0))\n",
    "print(Z2(0))\n",
    "print(Z3(0))"
   ]
  },
  {
   "cell_type": "markdown",
   "metadata": {},
   "source": [
    "An important feature of the implementation of these operations in ProblY is the maintenance of **dependence structures**, by which consistent results can be achieved. This is demonstrated below."
   ]
  },
  {
   "cell_type": "code",
   "execution_count": 11,
   "metadata": {
    "collapsed": false
   },
   "outputs": [
    {
     "name": "stdout",
     "output_type": "stream",
     "text": [
      "0.59 + 0.47 = 1.06\n"
     ]
    }
   ],
   "source": [
    "print('{:.2f} + {:.2f} = {:.2f}'.format(X1(5), Y1(5), Z1(5)))"
   ]
  },
  {
   "cell_type": "markdown",
   "metadata": {},
   "source": [
    "Here is another example. The point is that random variables are always dependent on other random variables from which they were defined."
   ]
  },
  {
   "cell_type": "code",
   "execution_count": 12,
   "metadata": {
    "collapsed": false
   },
   "outputs": [
    {
     "data": {
      "text/plain": [
       "100.0"
      ]
     },
     "execution_count": 12,
     "metadata": {},
     "output_type": "execute_result"
    }
   ],
   "source": [
    "Y = 100 + X1\n",
    "Z = Y - X1\n",
    "Z()"
   ]
  },
  {
   "cell_type": "markdown",
   "metadata": {},
   "source": [
    "**Array formation and indexing**\n",
    "\n",
    "Random variables can easily be grouped into arrays using the `rvar.array` class method and random arrays can be indexed and spliced into other random arrays or variables."
   ]
  },
  {
   "cell_type": "code",
   "execution_count": 13,
   "metadata": {
    "collapsed": true
   },
   "outputs": [],
   "source": [
    "Z = rvar.array([[Z1, Z2], [Z3, Z3]])"
   ]
  },
  {
   "cell_type": "code",
   "execution_count": 14,
   "metadata": {
    "collapsed": false
   },
   "outputs": [
    {
     "name": "stdout",
     "output_type": "stream",
     "text": [
      "[[ 1.50162111  0.14385028]\n",
      " [ 1.05729513  1.05729513]]\n",
      "[ 1.50162111  0.14385028]\n",
      "0.143850278614\n"
     ]
    }
   ],
   "source": [
    "print(Z(19))\n",
    "print(Z[0](19))\n",
    "print(Z[0, 1](19))"
   ]
  },
  {
   "cell_type": "markdown",
   "metadata": {},
   "source": [
    "**Custom operations**\n",
    "\n",
    "Any function `f` on numerical data types can be *lifted* to a map of random variables using `Lift` method."
   ]
  },
  {
   "cell_type": "code",
   "execution_count": 15,
   "metadata": {
    "collapsed": false
   },
   "outputs": [
    {
     "data": {
      "text/plain": [
       "0.25162373710247055"
      ]
     },
     "execution_count": 15,
     "metadata": {},
     "output_type": "execute_result"
    }
   ],
   "source": [
    "def f(x):\n",
    "    return x ** 2 - 2 * x + 1\n",
    "f = Lift(f)\n",
    "W = f(Z1)\n",
    "W(19)"
   ]
  },
  {
   "cell_type": "markdown",
   "metadata": {},
   "source": [
    "A lifted map can also be defined directly using the `Lift` decoration."
   ]
  },
  {
   "cell_type": "code",
   "execution_count": 16,
   "metadata": {
    "collapsed": true
   },
   "outputs": [],
   "source": [
    "@Lift\n",
    "def g(x, y):\n",
    "    return x[0] + y ** 2\n",
    "\n",
    "W = g(Z[1], Z2)"
   ]
  },
  {
   "cell_type": "code",
   "execution_count": 17,
   "metadata": {
    "collapsed": false
   },
   "outputs": [
    {
     "data": {
      "text/plain": [
       "1.0779880363536294"
      ]
     },
     "execution_count": 17,
     "metadata": {},
     "output_type": "execute_result"
    }
   ],
   "source": [
    "W(19)"
   ]
  },
  {
   "cell_type": "markdown",
   "metadata": {},
   "source": [
    "### 2.3 More examples"
   ]
  },
  {
   "cell_type": "markdown",
   "metadata": {},
   "source": [
    "**Trace of a random matrix**"
   ]
  },
  {
   "cell_type": "code",
   "execution_count": 18,
   "metadata": {
    "collapsed": false
   },
   "outputs": [],
   "source": [
    "Trace = Lift(np.trace)\n",
    "T = Trace(Z)"
   ]
  },
  {
   "cell_type": "code",
   "execution_count": 19,
   "metadata": {
    "collapsed": false
   },
   "outputs": [
    {
     "name": "stdout",
     "output_type": "stream",
     "text": [
      "1.54215311153\n"
     ]
    }
   ],
   "source": [
    "print(T(0))"
   ]
  },
  {
   "cell_type": "markdown",
   "metadata": {},
   "source": [
    "**Leading eigenvalue of a random Wishart matrix**"
   ]
  },
  {
   "cell_type": "markdown",
   "metadata": {},
   "source": [
    "We can use the `scipy.stats.wishart` implementation of random Wishart matrices to sample their leading eigenvalues and construct a histogram."
   ]
  },
  {
   "cell_type": "code",
   "execution_count": 20,
   "metadata": {
    "collapsed": false
   },
   "outputs": [],
   "source": [
    "@Lift\n",
    "def largest_eig(matrix):\n",
    "    return np.max(np.linalg.eig(matrix)[0])\n",
    "\n",
    "W = rvar.define(stats.wishart(scale=np.eye(2)), 'scipy')\n",
    "Lambda = largest_eig(W)"
   ]
  },
  {
   "cell_type": "code",
   "execution_count": 21,
   "metadata": {
    "collapsed": false
   },
   "outputs": [
    {
     "data": {
      "image/png": "[encoded data removed]",
      "text/plain": [
       "<Figure size 432x288 with 1 Axes>"
      ]
     },
     "metadata": {},
     "output_type": "display_data"
    }
   ],
   "source": [
    "samples = [Lambda(i) for i in range(1000)]\n",
    "_ = plt.hist(samples, bins=40)"
   ]
  }
 ],
 "metadata": {
  "anaconda-cloud": {},
  "kernelspec": {
   "display_name": "Python [conda root]",
   "language": "python",
   "name": "conda-root-py"
  },
  "language_info": {
   "codemirror_mode": {
    "name": "ipython",
    "version": 3
   },
   "file_extension": ".py",
   "mimetype": "text/x-python",
   "name": "python",
   "nbconvert_exporter": "python",
   "pygments_lexer": "ipython3",
   "version": "3.5.6"
  }
 },
 "nbformat": 4,
 "nbformat_minor": 1
}
