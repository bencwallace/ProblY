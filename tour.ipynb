{
 "cells": [
  {
   "cell_type": "markdown",
   "metadata": {},
   "source": [
    "# Tour of ProblY"
   ]
  },
  {
   "cell_type": "markdown",
   "metadata": {},
   "source": [
    "This Python module was written to allow the easy and intuitive manipulation of random variables according to the following principle:\n",
    "> Individual random variables should be treated as **numeric types**.\n",
    "\n",
    "This means treating them as objects that can be composed with functions of a number, array, or matrix and, in particular, allowing arithmetical operations to be performed upon them. Moreover, an immediate requirement for any methodology allowing such a treatment of random variables is the implementation of a *dependence structure* that tracks the relationships between different instances of a random variable (more on this below).\n",
    "\n",
    "## 1 Comparison with other approaches\n",
    "\n",
    "Other Python implementations of random variables, such as those in `scipy.stats`, are typically geared towards statistical applications and therefore tend to treat random variables as collections of properties (mean, variance, etc.) and methods (pdf, cdf, etc.). It is therefore difficult to perform operations on them as these properties and methods can be difficult to compute for transformed random variables. ProblY trades the convenience of rapid access to such properties in exchange for flexibility in the kinds of random variables that can be constructed by implementing a very general class whose objects' main function is to produce random numbers from some distribution."
   ]
  },
  {
   "cell_type": "markdown",
   "metadata": {},
   "source": [
    "## 2 The `rvar` class\n",
    "The core of ProblY is the class `rvar` class. There are two main ways to instantiate objects of this class: directly from some sampling mechanism, as new independent random variables; or in terms of other, already existing `rvar` objects. In order to produce random samples, the first kinds of `rvar` objects are necessary. However, the emphasis on ProblY is on building up the second kind of objects and their dependence relations."
   ]
  },
  {
   "cell_type": "markdown",
   "metadata": {},
   "source": [
    "### 2.1 Building blocks: direct instantiation"
   ]
  },
  {
   "cell_type": "markdown",
   "metadata": {},
   "source": [
    "The most direct way to construct a `rvar` object is via a sampling method that takes a parameter `seed` as input and outputs a random numeric type (`int`, `float`, `numpy.ndarray`, etc.)."
   ]
  },
  {
   "cell_type": "markdown",
   "metadata": {},
   "source": [
    "### 2.2 Constructing more complex random variables"
   ]
  },
  {
   "cell_type": "markdown",
   "metadata": {},
   "source": [
    "## 3. More examples"
   ]
  },
  {
   "cell_type": "markdown",
   "metadata": {},
   "source": [
    "We need the following modules."
   ]
  },
  {
   "cell_type": "code",
   "execution_count": 1,
   "metadata": {
    "collapsed": true
   },
   "outputs": [],
   "source": [
    "%matplotlib inline\n",
    "import matplotlib.pyplot as plt\n",
    "import numpy as np\n",
    "import scipy.stats as stats\n",
    "\n",
    "from probly import RV, Lift"
   ]
  },
  {
   "cell_type": "markdown",
   "metadata": {},
   "source": [
    "### 1. Compatibility with `scipy.stats`\n",
    "Random variables from `scipy.stats` can be wrapped in a `RV` object as follows."
   ]
  },
  {
   "cell_type": "code",
   "execution_count": 2,
   "metadata": {
    "collapsed": false
   },
   "outputs": [],
   "source": [
    "n = stats.norm()\n",
    "N = RV(n)"
   ]
  },
  {
   "cell_type": "markdown",
   "metadata": {},
   "source": [
    "Samples are drawn by calling the random variable. If an argument is provided, it acts as the random seed."
   ]
  },
  {
   "cell_type": "code",
   "execution_count": 5,
   "metadata": {
    "collapsed": false
   },
   "outputs": [
    {
     "name": "stdout",
     "output_type": "stream",
     "text": [
      "-1.95694077475\n",
      "False\n",
      "True\n"
     ]
    }
   ],
   "source": [
    "print(N())\n",
    "print(N() == N())\n",
    "print(N(10) == N(10))"
   ]
  },
  {
   "cell_type": "markdown",
   "metadata": {},
   "source": [
    "### 2. Constant random variables"
   ]
  },
  {
   "cell_type": "markdown",
   "metadata": {},
   "source": [
    "The simplest example is a constant random variable."
   ]
  },
  {
   "cell_type": "code",
   "execution_count": 6,
   "metadata": {
    "collapsed": false
   },
   "outputs": [
    {
     "name": "stdout",
     "output_type": "stream",
     "text": [
      "C1 =  8\n",
      "C2 =  [[1 2]\n",
      " [3 4]]\n",
      "C3 =  [1 2 3 4]\n"
     ]
    }
   ],
   "source": [
    "C1 = RV(8)\n",
    "print('C1 = ', C1())\n",
    "\n",
    "C2 = RV([[1, 2], [3, 4]])\n",
    "print('C2 = ', C2())\n",
    "\n",
    "C3 = RV(np.array([1, 2, 3, 4]))\n",
    "print('C3 = ', C3())"
   ]
  },
  {
   "cell_type": "markdown",
   "metadata": {},
   "source": [
    "### 3. Arithmetic with random variables"
   ]
  },
  {
   "cell_type": "markdown",
   "metadata": {},
   "source": [
    "Basic arithmetical operations can be performed on and between random variables."
   ]
  },
  {
   "cell_type": "code",
   "execution_count": 7,
   "metadata": {
    "collapsed": false
   },
   "outputs": [
    {
     "name": "stdout",
     "output_type": "stream",
     "text": [
      "100.899815106\n"
     ]
    }
   ],
   "source": [
    "X = 100 + RV(stats.norm())\n",
    "print(X())"
   ]
  },
  {
   "cell_type": "code",
   "execution_count": 8,
   "metadata": {
    "collapsed": false
   },
   "outputs": [
    {
     "name": "stdout",
     "output_type": "stream",
     "text": [
      "144.964052919\n"
     ]
    }
   ],
   "source": [
    "Y = 40 * RV(stats.norm())\n",
    "print((X + Y)())"
   ]
  },
  {
   "cell_type": "markdown",
   "metadata": {},
   "source": [
    "### 4. Matrix-valued random variables"
   ]
  },
  {
   "cell_type": "markdown",
   "metadata": {},
   "source": [
    "Matri-valued random variables behave just like matrices."
   ]
  },
  {
   "cell_type": "code",
   "execution_count": 9,
   "metadata": {
    "collapsed": false
   },
   "outputs": [
    {
     "name": "stdout",
     "output_type": "stream",
     "text": [
      "2.38409650057\n"
     ]
    }
   ],
   "source": [
    "M = RV(stats.wishart(scale=np.eye(2)))\n",
    "Z = np.dot(M, M)\n",
    "print(Z[0, 0]())"
   ]
  },
  {
   "cell_type": "markdown",
   "metadata": {},
   "source": [
    "### 4. Functions of random variables"
   ]
  },
  {
   "cell_type": "markdown",
   "metadata": {},
   "source": [
    "Any function between numerical types can be extended to act on random variables (by composition) with `probly.Lift`."
   ]
  },
  {
   "cell_type": "code",
   "execution_count": 10,
   "metadata": {
    "collapsed": false
   },
   "outputs": [
    {
     "name": "stdout",
     "output_type": "stream",
     "text": [
      "5.08418936033\n"
     ]
    }
   ],
   "source": [
    "from probly import Lift\n",
    "Trace = Lift(np.trace)\n",
    "T = Trace(Z)\n",
    "print(T())"
   ]
  },
  {
   "cell_type": "markdown",
   "metadata": {},
   "source": [
    "### 5. Leading eigenvalue of a random Wishart matrix"
   ]
  },
  {
   "cell_type": "markdown",
   "metadata": {},
   "source": [
    "We can use the `scipy.stats.wishart` implementation of random Wishart matrices to sample their leading eigenvalues and construct a histogram."
   ]
  },
  {
   "cell_type": "code",
   "execution_count": 11,
   "metadata": {
    "collapsed": false
   },
   "outputs": [
    {
     "data": {
      "image/png": "[encoded data removed]",
      "text/plain": [
       "<Figure size 432x288 with 1 Axes>"
      ]
     },
     "metadata": {},
     "output_type": "display_data"
    }
   ],
   "source": [
    "%matplotlib inline\n",
    "import matplotlib.pyplot as plt\n",
    "\n",
    "def largest_eig(matrix):\n",
    "    return np.max(np.linalg.eig(matrix)[0])\n",
    "largest_eig = Lift(largest_eig)\n",
    "\n",
    "Lambda = largest_eig(stats.wishart(scale=np.eye(2)))\n",
    "samples = [Lambda() for _ in range(10000)]\n",
    "_ = plt.hist(samples, bins=40)"
   ]
  }
 ],
 "metadata": {
  "anaconda-cloud": {},
  "kernelspec": {
   "display_name": "Python [conda root]",
   "language": "python",
   "name": "conda-root-py"
  },
  "language_info": {
   "codemirror_mode": {
    "name": "ipython",
    "version": 3
   },
   "file_extension": ".py",
   "mimetype": "text/x-python",
   "name": "python",
   "nbconvert_exporter": "python",
   "pygments_lexer": "ipython3",
   "version": "3.5.6"
  }
 },
 "nbformat": 4,
 "nbformat_minor": 1
}
